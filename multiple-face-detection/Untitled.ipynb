{
 "cells": [
  {
   "cell_type": "code",
   "execution_count": 3,
   "metadata": {},
   "outputs": [
    {
     "ename": "ImportError",
     "evalue": "numpy.core.multiarray failed to import",
     "output_type": "error",
     "traceback": [
      "\u001b[1;31m---------------------------------------------------------------------------\u001b[0m",
      "\u001b[1;31mImportError\u001b[0m                               Traceback (most recent call last)",
      "\u001b[1;31mImportError\u001b[0m: numpy.core.multiarray failed to import"
     ]
    },
    {
     "ename": "ImportError",
     "evalue": "numpy.core.multiarray failed to import",
     "output_type": "error",
     "traceback": [
      "\u001b[1;31m---------------------------------------------------------------------------\u001b[0m",
      "\u001b[1;31mImportError\u001b[0m                               Traceback (most recent call last)",
      "\u001b[1;32m<ipython-input-3-bd2cdcd9500e>\u001b[0m in \u001b[0;36m<module>\u001b[1;34m\u001b[0m\n\u001b[1;32m----> 1\u001b[1;33m \u001b[1;32mimport\u001b[0m \u001b[0mcv2\u001b[0m\u001b[1;33m\u001b[0m\u001b[1;33m\u001b[0m\u001b[0m\n\u001b[0m\u001b[0;32m      2\u001b[0m \u001b[1;32mimport\u001b[0m \u001b[0mnumpy\u001b[0m \u001b[1;32mas\u001b[0m \u001b[0mnp\u001b[0m\u001b[1;33m\u001b[0m\u001b[1;33m\u001b[0m\u001b[0m\n",
      "\u001b[1;32mG:\\AI\\Anaconda3\\lib\\site-packages\\cv2\\__init__.py\u001b[0m in \u001b[0;36m<module>\u001b[1;34m\u001b[0m\n\u001b[0;32m      1\u001b[0m \u001b[1;32mimport\u001b[0m \u001b[0mimportlib\u001b[0m\u001b[1;33m\u001b[0m\u001b[1;33m\u001b[0m\u001b[0m\n\u001b[0;32m      2\u001b[0m \u001b[1;33m\u001b[0m\u001b[0m\n\u001b[1;32m----> 3\u001b[1;33m \u001b[1;32mfrom\u001b[0m \u001b[1;33m.\u001b[0m\u001b[0mcv2\u001b[0m \u001b[1;32mimport\u001b[0m \u001b[1;33m*\u001b[0m\u001b[1;33m\u001b[0m\u001b[1;33m\u001b[0m\u001b[0m\n\u001b[0m\u001b[0;32m      4\u001b[0m \u001b[1;32mfrom\u001b[0m \u001b[1;33m.\u001b[0m\u001b[0mdata\u001b[0m \u001b[1;32mimport\u001b[0m \u001b[1;33m*\u001b[0m\u001b[1;33m\u001b[0m\u001b[1;33m\u001b[0m\u001b[0m\n\u001b[0;32m      5\u001b[0m \u001b[1;33m\u001b[0m\u001b[0m\n",
      "\u001b[1;31mImportError\u001b[0m: numpy.core.multiarray failed to import"
     ]
    }
   ],
   "source": [
    "import cv2\n",
    "import numpy as np"
   ]
  },
  {
   "cell_type": "code",
   "execution_count": 2,
   "metadata": {},
   "outputs": [],
   "source": [
    "# importing_classifiers\n",
    "face_classifier =cv2.CascadeClassifier('haarcascades/haarcascade_frontalface_default.xml')\n",
    "eye_classifier  =cv2.CascadeClassifier('haarcascades/haarcascade_eye.xml')"
   ]
  },
  {
   "cell_type": "code",
   "execution_count": 6,
   "metadata": {},
   "outputs": [],
   "source": [
    "# reading_image\n",
    "image=cv2.imread('data/photo_2021-03-16_23-40-10.jpg')\n",
    "gray=cv2.cvtColor(image,cv2.COLOR_BGR2GRAY)"
   ]
  },
  {
   "cell_type": "code",
   "execution_count": 7,
   "metadata": {},
   "outputs": [],
   "source": [
    "# detecting_faces\n",
    "faces=face_classifier.detectMultiScale(gray,1.5,5)\n",
    "if faces is ():\n",
    "    print('No faces detected!')"
   ]
  },
  {
   "cell_type": "code",
   "execution_count": 8,
   "metadata": {},
   "outputs": [],
   "source": [
    "# faces_found\n",
    "for (x,y,w,h) in faces:\n",
    "    \n",
    "    # draw_rectangle_around_face     \n",
    "    cv2.rectangle(image,(x,y),(x+w,y+h),(127,0,255),2)\n",
    "#     cv2.imshow('faces',image)\n",
    "#     cv2.waitKey(0)\n",
    "    \n",
    "    # cropping_face_only\n",
    "    roi_color=image[y:y+h,x:x+w]\n",
    "    roi_gray=gray[y:y+h,x:x+w]\n",
    "    \n",
    "    # eyes_detection\n",
    "    eyes=eye_classifier.detectMultiScale(roi_gray)\n",
    "    \n",
    "    # drawing_eyes_one_by_one\n",
    "    for (ex,ey,ew,eh) in eyes:\n",
    "        cv2.rectangle(roi_color,(ex,ey),(ex+ew,ey+eh),(255,255,0),2)\n",
    "#         cv2.imshow('face&eyes',image)\n",
    "#         cv2.waitKey(0)\n",
    "    cv2.imshow('faces&eyes',image)\n",
    "        \n",
    "cv2.waitKey(0)\n",
    "cv2.destroyAllWindows()"
   ]
  },
  {
   "cell_type": "code",
   "execution_count": 9,
   "metadata": {},
   "outputs": [],
   "source": [
    "import cv2\n",
    "import numpy as np\n",
    "\n",
    "# importing_haarcascade_classifiers\n",
    "face_classifier =cv2.CascadeClassifier('haarcascades/haarcascade_frontalface_default.xml')\n",
    "eye_classifier  =cv2.CascadeClassifier('haarcascades/haarcascade_eye.xml')\n",
    "\n",
    "# face_detection_function\n",
    "def face_detection(image):\n",
    "    \n",
    "    # grascaling_image_passed\n",
    "    if ret is True:\n",
    "        gray=cv2.cvtColor(image,cv2.COLOR_BGR2GRAY)\n",
    "        \n",
    "        # detecting_faces    \n",
    "        faces=face_classifier.detectMultiScale(gray,1.6,7)\n",
    "\n",
    "        # drawing_face_rectangle\n",
    "        for (x,y,w,h) in faces:\n",
    "            \n",
    "            # draw_rectangle_around_face     \n",
    "            cv2.rectangle(image,(x,y),(x+w,y+h),(127,0,255),2)\n",
    "            \n",
    "            # cropping_face_only\n",
    "            roi_color=image[y:y+h,x:x+w]\n",
    "            roi_gray=gray[y:y+h,x:x+w]\n",
    "            \n",
    "            # eyes_detection\n",
    "            eyes=eye_classifier.detectMultiScale(roi_gray)\n",
    "            \n",
    "            # drawing_eyes_rectangles\n",
    "            for (ex,ey,ew,eh) in eyes:\n",
    "                cv2.rectangle(roi_color,(ex,ey),(ex+ew,ey+eh),(255,255,0),2)\n",
    "    \n",
    "    # returning_image_with_rectangles\n",
    "    return image\n",
    "    \n",
    "# capturing_video_from_webcam\n",
    "cap=cv2.VideoCapture(0)\n",
    "\n",
    "while True:\n",
    "\n",
    "    # reading_from_camera\n",
    "    ret,frame=cap.read()\n",
    "    cv2.imshow('face_detection',face_detection(frame))\n",
    "\n",
    "    # if_enter_pressed_then_exit\n",
    "    if cv2.waitKey(1)==13:\n",
    "        break\n",
    "        \n",
    "# releasing_camera\n",
    "cap.release()\n",
    "# destroying_window\n",
    "cv2.destroyAllWindows()"
   ]
  },
  {
   "cell_type": "code",
   "execution_count": null,
   "metadata": {},
   "outputs": [],
   "source": []
  }
 ],
 "metadata": {
  "kernelspec": {
   "display_name": "Python 3",
   "language": "python",
   "name": "python3"
  }
 },
 "nbformat": 4,
 "nbformat_minor": 4
}
